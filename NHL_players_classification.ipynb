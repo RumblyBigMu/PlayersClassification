{
 "cells": [
  {
   "cell_type": "markdown",
   "metadata": {},
   "source": [
    "Подключение библиотек"
   ]
  },
  {
   "cell_type": "code",
   "execution_count": 1,
   "metadata": {},
   "outputs": [],
   "source": [
    "import pandas as pd\n",
    "import matplotlib.pyplot as plt\n",
    "from sklearn.metrics import accuracy_score\n",
    "from sklearn.metrics import ConfusionMatrixDisplay\n",
    "from sklearn.metrics import classification_report\n",
    "from sklearn.preprocessing import StandardScaler\n",
    "from sklearn.neural_network import MLPClassifier\n",
    "from sklearn.neighbors import KNeighborsClassifier\n",
    "from sklearn.model_selection import train_test_split"
   ]
  },
  {
   "cell_type": "markdown",
   "metadata": {},
   "source": [
    "Подготовка набора данных"
   ]
  },
  {
   "cell_type": "code",
   "execution_count": 2,
   "metadata": {},
   "outputs": [],
   "source": [
    "# Считывание таблицы\n",
    "NHL = pd.read_csv(\"Data/NHL.csv\", delimiter=',', encoding='latin-1')\n",
    "# Удаление лишних столбцов\n",
    "NHL = NHL.drop(['Rk', 'Age', 'Tm', 'PS', 'EV', 'PP', 'SH', 'GW', 'EV.1', 'PP.1', 'SH.1', 'TOI', 'HART', 'Votes'],\n",
    "               axis=1)\n",
    "# Форматирование столбца \"Player\"\n",
    "NHL['Player'] = NHL['Player'].str.extract(r'([^\\\\]+(?=\\\\))', expand=False)\n",
    "\n",
    "gp = 20  # Количество проведенных игр\n",
    "\n",
    "# Удаление строк, не удовлетворяющих условиям\n",
    "NHL = NHL.drop(NHL[(NHL.GP < gp)].index)\n",
    "# Удаление столбца \"Season\"\n",
    "NHL = NHL.drop('Season', axis=1)\n",
    "# Удаление повторений в столбце Player\n",
    "NHL = NHL.drop_duplicates(subset=['Player'])\n",
    "# Обновление индексов\n",
    "NHL = NHL.reset_index(drop=True)\n",
    "# Замена позиций: \n",
    "#   RW, LW, LW/RW -> W\n",
    "NHL = NHL.replace(['RW', 'LW', 'LW/RW'], 'W')\n",
    "#   C/LW, LW/C -> C/W \n",
    "NHL = NHL.replace(['C/LW', 'LW/C'], 'W')\n",
    "# Изменение порядка столбцов\n",
    "NHL_data = NHL.reindex(columns=['GP', 'G', 'A','PTS','plusminus','PIM','S','S_percent','ATOI','BLK','HIT','FOW','FOL','FO_percent','Player','Pos'])\n"
   ]
  },
  {
   "cell_type": "markdown",
   "metadata": {},
   "source": [
    "Разделение набора данных на атрибуты и метки"
   ]
  },
  {
   "cell_type": "code",
   "execution_count": 3,
   "metadata": {},
   "outputs": [
    {
     "data": {
      "text/plain": [
       "array(['C', 'W', 'D'], dtype=object)"
      ]
     },
     "execution_count": 3,
     "metadata": {},
     "output_type": "execute_result"
    }
   ],
   "source": [
    "# Атрибуты\n",
    "atrb = NHL_data.iloc[:, :-2]\n",
    "# Метки\n",
    "y = pd.core.frame.DataFrame(NHL_data.iloc[:,-1])\n",
    "y.Pos.unique()"
   ]
  },
  {
   "cell_type": "markdown",
   "metadata": {},
   "source": [
    "Тестовый сплит"
   ]
  },
  {
   "cell_type": "code",
   "execution_count": 4,
   "metadata": {},
   "outputs": [],
   "source": [
    "# test_size показывает, какой объем данных нужно выделить для тестового набора\n",
    "X_train, X_test, y_train, y_test = train_test_split(atrb, y, test_size = 0.20)"
   ]
  },
  {
   "cell_type": "markdown",
   "metadata": {},
   "source": [
    "Масштабирование функций"
   ]
  },
  {
   "cell_type": "code",
   "execution_count": 5,
   "metadata": {},
   "outputs": [],
   "source": [
    "scaler = StandardScaler()\n",
    "scaler.fit(X_train)\n",
    "\n",
    "X_train = scaler.transform(X_train)\n",
    "X_test = scaler.transform(X_test)"
   ]
  },
  {
   "cell_type": "markdown",
   "metadata": {},
   "source": [
    "Обучение и прогнозы"
   ]
  },
  {
   "cell_type": "markdown",
   "metadata": {},
   "source": [
    "Многослойный персептрон"
   ]
  },
  {
   "cell_type": "code",
   "execution_count": 6,
   "metadata": {},
   "outputs": [
    {
     "name": "stdout",
     "output_type": "stream",
     "text": [
      "Optimal hidden_layer_size: 10 -> Accuracy: 0.8385416666666666\n"
     ]
    }
   ],
   "source": [
    "max = 0\n",
    "for k in range(5, 105, 5):\n",
    "    MLP_model = MLPClassifier(hidden_layer_sizes=(k, k, k), max_iter=50000)\n",
    "    MLP_model.fit(X_train, y_train.values.ravel())\n",
    "    MLP_prediction = MLP_model.predict(X_test)\n",
    "    if accuracy_score(MLP_prediction, y_test) > max:\n",
    "        max = accuracy_score(MLP_prediction, y_test)\n",
    "        hid_n = k\n",
    "        MLP_optimal = MLP_model\n",
    "print(f\"Optimal hidden_layer_size: {hid_n} -> Accuracy: {max}\")"
   ]
  },
  {
   "cell_type": "markdown",
   "metadata": {},
   "source": [
    "Метод k-ближайших соседей (K-Nearest Neighbors)"
   ]
  },
  {
   "cell_type": "code",
   "execution_count": 7,
   "metadata": {},
   "outputs": [
    {
     "name": "stdout",
     "output_type": "stream",
     "text": [
      "Optimal n_neighbors: 42 -> Accuracy: 0.8151041666666666\n"
     ]
    }
   ],
   "source": [
    "# В KNN-модели нужно указать параметр n_neighbors\n",
    "# Это число точек, на которое будет смотреть\n",
    "# классификатор, чтобы определить, к какому классу принадлежит новая точка\n",
    "max = 0\n",
    "for k in range(1, 70):\n",
    "    KNN_model = KNeighborsClassifier(n_neighbors=k)\n",
    "    KNN_model.fit(X_train, y_train.values.ravel())\n",
    "    KNN_prediction = KNN_model.predict(X_test)\n",
    "    if accuracy_score(KNN_prediction, y_test) > max:\n",
    "        max = accuracy_score(KNN_prediction, y_test)\n",
    "        n_neigb = k\n",
    "        KNN_optimal = KNN_model\n",
    "print(f\"Optimal n_neighbors: {n_neigb} -> Accuracy: {max}\")"
   ]
  },
  {
   "cell_type": "markdown",
   "metadata": {},
   "source": [
    "Оценки алгоритмов"
   ]
  },
  {
   "cell_type": "code",
   "execution_count": 8,
   "metadata": {},
   "outputs": [
    {
     "data": {
      "image/png": "[encoded data removed]",
      "text/plain": [
       "<Figure size 640x480 with 2 Axes>"
      ]
     },
     "metadata": {},
     "output_type": "display_data"
    },
    {
     "name": "stdout",
     "output_type": "stream",
     "text": [
      "              precision    recall  f1-score   support\n",
      "\n",
      "           C       0.64      0.67      0.65       100\n",
      "           D       0.98      0.95      0.97       132\n",
      "           W       0.76      0.76      0.76       152\n",
      "\n",
      "    accuracy                           0.80       384\n",
      "   macro avg       0.79      0.79      0.79       384\n",
      "weighted avg       0.81      0.80      0.80       384\n",
      "\n"
     ]
    }
   ],
   "source": [
    "ConfusionMatrixDisplay.from_estimator(MLP_optimal, X_test, y_test, cmap='plasma')  \n",
    "plt.show()\n",
    "print(classification_report(y_test,MLP_prediction)) "
   ]
  },
  {
   "cell_type": "code",
   "execution_count": 9,
   "metadata": {},
   "outputs": [
    {
     "data": {
      "image/png": "[encoded data removed]",
      "text/plain": [
       "<Figure size 640x480 with 2 Axes>"
      ]
     },
     "metadata": {},
     "output_type": "display_data"
    },
    {
     "name": "stdout",
     "output_type": "stream",
     "text": [
      "              precision    recall  f1-score   support\n",
      "\n",
      "           C       0.85      0.51      0.64       100\n",
      "           D       0.91      0.89      0.90       132\n",
      "           W       0.69      0.88      0.77       152\n",
      "\n",
      "    accuracy                           0.79       384\n",
      "   macro avg       0.82      0.76      0.77       384\n",
      "weighted avg       0.81      0.79      0.78       384\n",
      "\n"
     ]
    }
   ],
   "source": [
    "ConfusionMatrixDisplay.from_estimator(KNN_optimal, X_test, y_test, cmap='plasma') \n",
    "plt.show()\n",
    "print(classification_report(y_test,KNN_prediction)) "
   ]
  }
 ],
 "metadata": {
  "kernelspec": {
   "display_name": "Python 3.10.2 64-bit",
   "language": "python",
   "name": "python3"
  },
  "language_info": {
   "codemirror_mode": {
    "name": "ipython",
    "version": 3
   },
   "file_extension": ".py",
   "mimetype": "text/x-python",
   "name": "python",
   "nbconvert_exporter": "python",
   "pygments_lexer": "ipython3",
   "version": "3.10.2"
  },
  "orig_nbformat": 4,
  "vscode": {
   "interpreter": {
    "hash": "328163a6a4d46658ab441e695bb8a4bbba39629dd394c9b25592c577b63e7d75"
   }
  }
 },
 "nbformat": 4,
 "nbformat_minor": 2
}
